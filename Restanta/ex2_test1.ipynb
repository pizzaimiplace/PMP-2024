{
 "cells": [
  {
   "cell_type": "code",
   "execution_count": null,
   "id": "c64b8a5e-0ab0-47c8-b6bd-6f90620f896b",
   "metadata": {},
   "outputs": [],
   "source": [
    "import numpy as np\n",
    "import scipy.stats as stats\n",
    "import matplotlib.pyplot as plt\n",
    "import arviz as az\n",
    "import pymc as pm\n",
    "\n",
    "obs = 5\n",
    "\n",
    "with pm.Model() as ex2_model:\n",
    "    p = pm.Beta('p', alpha=2, beta=2)\n",
    "    \n",
    "    y = pm.Geometric(\"y\", p=p, observed=obs)\n",
    "    \n",
    "    trace = pm.sample(5000, chains=2, tune=4000, random_seed=42)\n",
    "    \n",
    "samples = trace.posterior[\"p\"].stack(draws=(\"chain\",\"draw\")).values"
   ]
  },
  {
   "cell_type": "code",
   "execution_count": null,
   "id": "674073bf-52e4-4a42-be3e-38a7ee11fc4e",
   "metadata": {},
   "outputs": [],
   "source": []
  }
 ],
 "metadata": {
  "kernelspec": {
   "display_name": "Python 3 (ipykernel)",
   "language": "python",
   "name": "python3"
  },
  "language_info": {
   "codemirror_mode": {
    "name": "ipython",
    "version": 3
   },
   "file_extension": ".py",
   "mimetype": "text/x-python",
   "name": "python",
   "nbconvert_exporter": "python",
   "pygments_lexer": "ipython3",
   "version": "3.12.0"
  }
 },
 "nbformat": 4,
 "nbformat_minor": 5
}
