{
 "cells": [
  {
   "cell_type": "code",
   "execution_count": 13,
   "id": "3ccc5efa-0543-4acc-b6d9-e558e3f736ab",
   "metadata": {},
   "outputs": [
    {
     "name": "stdout",
     "output_type": "stream",
     "text": [
      "True\n",
      "+------+----------+\n",
      "| D    |   phi(D) |\n",
      "+======+==========+\n",
      "| D(0) |   0.4420 |\n",
      "+------+----------+\n",
      "| D(1) |   0.5580 |\n",
      "+------+----------+\n"
     ]
    }
   ],
   "source": [
    "from pgmpy.models import BayesianNetwork\n",
    "from pgmpy.factors.discrete import TabularCPD\n",
    "from pgmpy.inference import VariableElimination\n",
    "\n",
    "model = BayesianNetwork([('A', 'C'), ('C', 'D'), ('B', 'D')])\n",
    "cpd_A = TabularCPD(variable='A', variable_card=2, values=[[0.1], [0.9]])\n",
    "\n",
    "cpd_C = TabularCPD(variable='C', variable_card=2,\n",
    "                   values=[[0.7, 0.8],\n",
    "                           [0.3, 0.2]],\n",
    "                   evidence=['A'],\n",
    "                   evidence_card=[2])\n",
    "\n",
    "cpd_B = TabularCPD(variable='B', variable_card=2, values=[[0.5],[0.5]])\n",
    "\n",
    "cpd_D = TabularCPD(variable='D', variable_card=2,\n",
    "                   values=[[0.3, 0.4, 0.5, 0.8],\n",
    "                           [0.7, 0.6, 0.5, 0.2]],\n",
    "                   evidence=['B', 'C'],\n",
    "                   evidence_card=[2, 2])\n",
    "\n",
    "model.add_cpds(cpd_A, cpd_B, cpd_C, cpd_D)\n",
    "print(model.check_model())\n",
    "\n",
    "inference = VariableElimination(model)\n",
    "\n",
    "prob_D_0 = inference.query(variables=['D'], evidence={})\n",
    "\n",
    "print(prob_D_0)"
   ]
  },
  {
   "cell_type": "code",
   "execution_count": null,
   "id": "41087773-2c09-4b05-aee6-801b76960399",
   "metadata": {},
   "outputs": [],
   "source": []
  }
 ],
 "metadata": {
  "kernelspec": {
   "display_name": "Python 3 (ipykernel)",
   "language": "python",
   "name": "python3"
  },
  "language_info": {
   "codemirror_mode": {
    "name": "ipython",
    "version": 3
   },
   "file_extension": ".py",
   "mimetype": "text/x-python",
   "name": "python",
   "nbconvert_exporter": "python",
   "pygments_lexer": "ipython3",
   "version": "3.12.0"
  }
 },
 "nbformat": 4,
 "nbformat_minor": 5
}
