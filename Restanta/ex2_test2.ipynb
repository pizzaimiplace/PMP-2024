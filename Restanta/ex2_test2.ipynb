{
 "cells": [
  {
   "cell_type": "code",
   "execution_count": 3,
   "id": "b5461c90-a676-49a7-87e6-5c713458974c",
   "metadata": {},
   "outputs": [],
   "source": [
    "import numpy as np\n",
    "import pandas as pd\n",
    "import pymc as pm\n",
    "import arviz as az\n",
    "import matplotlib.pyplot as plt\n",
    "\n",
    "df = pd.read_csv('greutati.csv')\n",
    "data = df.values\n",
    "\n",
    "def mix_model(k, greut):\n",
    "    with pm.Model() as model:\n",
    "        w = pm.Dirichlet(\"w\", a=np.ones(K))\n",
    "\n",
    "        alpha = pm.Normal(\"mu\", mu=np.mean(greut), sigma=np.std(greut), shape=K)\n",
    "\n",
    "        sigma = pm.HalfNormal(\"sigma\", sigma=np.std(greut), shape=K)\n",
    "\n",
    "        y_obs = pm.NormalMixture(\n",
    "            'y_obs',\n",
    "            w=greut,\n",
    "            mu=alpha,\n",
    "            sigma=sigma,\n",
    "            observed=data\n",
    "        )\n",
    "\n",
    "        trace = pm.sample(1000, return_inferencedata=True)\n",
    "\n",
    "    return model, trace"
   ]
  },
  {
   "cell_type": "code",
   "execution_count": null,
   "id": "a08848d5-47c9-48e5-a3e6-c4b1ffedfaee",
   "metadata": {},
   "outputs": [],
   "source": []
  }
 ],
 "metadata": {
  "kernelspec": {
   "display_name": "Python 3 (ipykernel)",
   "language": "python",
   "name": "python3"
  },
  "language_info": {
   "codemirror_mode": {
    "name": "ipython",
    "version": 3
   },
   "file_extension": ".py",
   "mimetype": "text/x-python",
   "name": "python",
   "nbconvert_exporter": "python",
   "pygments_lexer": "ipython3",
   "version": "3.12.0"
  }
 },
 "nbformat": 4,
 "nbformat_minor": 5
}
