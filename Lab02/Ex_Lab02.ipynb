{
 "cells": [
  {
   "cell_type": "code",
   "execution_count": 33,
   "id": "fdf560f8-0e07-40a6-83ee-f19303feae10",
   "metadata": {},
   "outputs": [
    {
     "name": "stdout",
     "output_type": "stream",
     "text": [
      "Probabilitate bila rosie este: 0.3152\n"
     ]
    }
   ],
   "source": [
    "import numpy as np\n",
    "import matplotlib.pyplot as plt\n",
    "import arviz as az\n",
    "import random\n",
    "\n",
    "def simulare(nr_simulari):\n",
    "\n",
    "    rezultate = []\n",
    "    \n",
    "    rosii = 3\n",
    "    albastre = 4\n",
    "    negre = 2\n",
    "    \n",
    "    for _ in range(nr_simulari):\n",
    "        \n",
    "        aruncare_zar = random.randint(1, 6)\n",
    "        \n",
    "        if aruncare_zar == 2 or aruncare_zar == 3 or aruncare_zar == 5:\n",
    "            negre += 1\n",
    "        elif aruncare_zar == 6:\n",
    "            rosii += 1\n",
    "        else:\n",
    "            albastre += 1\n",
    "        \n",
    "        total_bile = rosii + albastre + negre\n",
    "        \n",
    "        bila_extrasa = np.random.choice([\"rosie\", \"albastra\", \"neagra\"], size = 1, p=[rosii/total_bile, albastre/total_bile, negre/total_bile])\n",
    "        \n",
    "        rezultate.append(bila_extrasa)\n",
    "\n",
    "        rosii = 3\n",
    "        albastre = 4\n",
    "        negre = 2\n",
    "    \n",
    "    return rezultate\n",
    "\n",
    "nr_simulari = 10000\n",
    "rezultate = simulare(nr_simulari)\n",
    "\n",
    "numar_bile_rosii = sum(1 for rezultat in rezultate if rezultat == 'rosie')\n",
    "pr_bila_rosie = numar_bile_rosii/nr_simulari\n",
    "\n",
    "print(f\"Probabilitate bila rosie este: {pr_bila_rosie:.4f}\")"
   ]
  },
  {
   "cell_type": "code",
   "execution_count": null,
   "id": "4ac73cc7-c91f-439c-a2ab-d91a4dabd5d9",
   "metadata": {},
   "outputs": [],
   "source": []
  }
 ],
 "metadata": {
  "kernelspec": {
   "display_name": "Python 3 (ipykernel)",
   "language": "python",
   "name": "python3"
  },
  "language_info": {
   "codemirror_mode": {
    "name": "ipython",
    "version": 3
   },
   "file_extension": ".py",
   "mimetype": "text/x-python",
   "name": "python",
   "nbconvert_exporter": "python",
   "pygments_lexer": "ipython3",
   "version": "3.12.0"
  }
 },
 "nbformat": 4,
 "nbformat_minor": 5
}
